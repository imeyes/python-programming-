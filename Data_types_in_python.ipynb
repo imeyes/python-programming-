{
  "nbformat": 4,
  "nbformat_minor": 0,
  "metadata": {
    "colab": {
      "provenance": []
    },
    "kernelspec": {
      "name": "python3",
      "display_name": "Python 3"
    },
    "language_info": {
      "name": "python"
    }
  },
  "cells": [
    {
      "cell_type": "markdown",
      "source": [
        "Data *italicized text* Types in *python*"
      ],
      "metadata": {
        "id": "xcoDB-Lfk8Za"
      }
    },
    {
      "cell_type": "code",
      "source": [
        "x=\"welocme to my you tube channel\"\n",
        "print(type(x))\n"
      ],
      "metadata": {
        "id": "WWkqeR0Fgx80",
        "colab": {
          "base_uri": "https://localhost:8080/"
        },
        "outputId": "2b714b78-bad3-49de-883f-164d4d79e812"
      },
      "execution_count": 14,
      "outputs": [
        {
          "output_type": "stream",
          "name": "stdout",
          "text": [
            "<class 'str'>\n"
          ]
        }
      ]
    },
    {
      "cell_type": "code",
      "source": [
        "x=5\n",
        "print(type(x))"
      ],
      "metadata": {
        "id": "4TuA_Y7ng4eY",
        "colab": {
          "base_uri": "https://localhost:8080/"
        },
        "outputId": "d4e8030e-2d54-4a1e-dcf1-31c31d1ec3e5"
      },
      "execution_count": 15,
      "outputs": [
        {
          "output_type": "stream",
          "name": "stdout",
          "text": [
            "<class 'int'>\n"
          ]
        }
      ]
    },
    {
      "cell_type": "code",
      "source": [
        "x=5.4\n",
        "print(type(x))"
      ],
      "metadata": {
        "id": "dl5LxZEXhzc8",
        "colab": {
          "base_uri": "https://localhost:8080/"
        },
        "outputId": "028dae4a-f039-4a5f-a9ca-60277149e559"
      },
      "execution_count": 16,
      "outputs": [
        {
          "output_type": "stream",
          "name": "stdout",
          "text": [
            "<class 'float'>\n"
          ]
        }
      ]
    },
    {
      "cell_type": "code",
      "source": [
        "x=[1,2,3,4,5,'python']\n",
        "print(type(x))"
      ],
      "metadata": {
        "id": "Ix6jDsiQg7pM",
        "colab": {
          "base_uri": "https://localhost:8080/"
        },
        "outputId": "c2c9017f-670e-4805-bc18-0a89fe0bdb45"
      },
      "execution_count": 18,
      "outputs": [
        {
          "output_type": "stream",
          "name": "stdout",
          "text": [
            "<class 'list'>\n"
          ]
        }
      ]
    },
    {
      "cell_type": "markdown",
      "source": [
        "Lists are just like arrays, declared in other languages which is an ordered collection of data. It is very flexible as the items in a list do not need to be of the same type.  "
      ],
      "metadata": {
        "id": "-s11daiepfiS"
      }
    },
    {
      "cell_type": "code",
      "source": [
        "print(x[-3])"
      ],
      "metadata": {
        "colab": {
          "base_uri": "https://localhost:8080/"
        },
        "id": "3QrN2QNmnVlE",
        "outputId": "e650050f-88cb-47af-e833-cb77f13d22bd"
      },
      "execution_count": 22,
      "outputs": [
        {
          "output_type": "stream",
          "name": "stdout",
          "text": [
            "4\n"
          ]
        }
      ]
    },
    {
      "cell_type": "code",
      "source": [
        "x.append(6)\n",
        "x.append(7)\n",
        "print(x)"
      ],
      "metadata": {
        "colab": {
          "base_uri": "https://localhost:8080/"
        },
        "id": "gBxHYImRi_nS",
        "outputId": "2760eef3-e420-4c15-b99b-39c41845b08e"
      },
      "execution_count": 23,
      "outputs": [
        {
          "output_type": "stream",
          "name": "stdout",
          "text": [
            "[1, 2, 3, 4, 5, 'python', 6, 7]\n"
          ]
        }
      ]
    },
    {
      "cell_type": "code",
      "source": [
        "x.pop(5)\n",
        "print(x)"
      ],
      "metadata": {
        "colab": {
          "base_uri": "https://localhost:8080/"
        },
        "id": "crWA_EVLjOwh",
        "outputId": "c4ddafbc-728f-4209-b208-1158ed479161"
      },
      "execution_count": 24,
      "outputs": [
        {
          "output_type": "stream",
          "name": "stdout",
          "text": [
            "[1, 2, 3, 4, 5, 6, 7]\n"
          ]
        }
      ]
    },
    {
      "cell_type": "code",
      "source": [
        "x=(1,2,3,4,5,'ashwini')\n",
        "print(type(x))"
      ],
      "metadata": {
        "id": "W6Cf8Qrlg-nW",
        "colab": {
          "base_uri": "https://localhost:8080/"
        },
        "outputId": "4e06f616-fe66-4eda-a166-95efb9087f99"
      },
      "execution_count": 6,
      "outputs": [
        {
          "output_type": "stream",
          "name": "stdout",
          "text": [
            "<class 'tuple'>\n"
          ]
        }
      ]
    },
    {
      "cell_type": "markdown",
      "source": [
        "Just like a list, a tuple is also an ordered collection of Python objects. The only difference between a tuple and a list is that tuples are immutable i.e. tuples cannot be modified after it is created. It is represented by a tuple class."
      ],
      "metadata": {
        "id": "TInOdTxwpb_g"
      }
    },
    {
      "cell_type": "code",
      "source": [
        "x={1,2,3,4,5}\n",
        "print(type(x))"
      ],
      "metadata": {
        "id": "ovIGVyvIhCMV",
        "colab": {
          "base_uri": "https://localhost:8080/"
        },
        "outputId": "99bbb175-3864-43b0-d5ec-374efe684c3a"
      },
      "execution_count": 25,
      "outputs": [
        {
          "output_type": "stream",
          "name": "stdout",
          "text": [
            "<class 'set'>\n"
          ]
        }
      ]
    },
    {
      "cell_type": "markdown",
      "source": [
        "Set items cannot be accessed by referring to an index, since sets are unordered the items have no index. But you can loop through the set items using a for loop, or ask if a specified value is present in a set, by using the in the keyword."
      ],
      "metadata": {
        "id": "_5CmurfEpN0U"
      }
    },
    {
      "cell_type": "code",
      "source": [
        "x.add (6)\n",
        "x.add(7)\n",
        "print(x)"
      ],
      "metadata": {
        "colab": {
          "base_uri": "https://localhost:8080/"
        },
        "id": "8VaRvHVekh4e",
        "outputId": "bbf5f559-af07-42ab-a47d-419b543598d1"
      },
      "execution_count": 26,
      "outputs": [
        {
          "output_type": "stream",
          "name": "stdout",
          "text": [
            "{1, 2, 3, 4, 5, 6, 7}\n"
          ]
        }
      ]
    },
    {
      "cell_type": "code",
      "source": [
        "x.remove(7)\n",
        "print(x)"
      ],
      "metadata": {
        "colab": {
          "base_uri": "https://localhost:8080/"
        },
        "id": "VU8Pm5uMkwIz",
        "outputId": "64826c04-d19f-4d1a-c565-35c3fcd76066"
      },
      "execution_count": 28,
      "outputs": [
        {
          "output_type": "stream",
          "name": "stdout",
          "text": [
            "{1, 2, 3, 4, 6}\n"
          ]
        }
      ]
    },
    {
      "cell_type": "markdown",
      "source": [
        "An immutable set is called frozenset\n",
        "\n"
      ],
      "metadata": {
        "id": "Hv2Uaik9punq"
      }
    },
    {
      "cell_type": "code",
      "source": [
        "x=frozenset ({1,2,3,4,5})\n",
        "print(type(x))"
      ],
      "metadata": {
        "colab": {
          "base_uri": "https://localhost:8080/"
        },
        "id": "Gmz6X-GliuQX",
        "outputId": "fd69d0ad-0793-4481-a638-fcfcd14a04c9"
      },
      "execution_count": 29,
      "outputs": [
        {
          "output_type": "stream",
          "name": "stdout",
          "text": [
            "<class 'frozenset'>\n"
          ]
        }
      ]
    },
    {
      "cell_type": "code",
      "source": [
        "x={\"country\":\"India\",\"date\": \"14/2/2024\"}\n",
        "print(type(x))"
      ],
      "metadata": {
        "id": "8fj9Df3ZhGgA",
        "colab": {
          "base_uri": "https://localhost:8080/"
        },
        "outputId": "70f0cf28-1b74-4731-9664-3974dc4aa1d1"
      },
      "execution_count": 30,
      "outputs": [
        {
          "output_type": "stream",
          "name": "stdout",
          "text": [
            "<class 'dict'>\n"
          ]
        }
      ]
    },
    {
      "cell_type": "markdown",
      "source": [
        "A dictionary in Python is an unordered collection of data values, used to store data values like a map, unlike other Data Types that hold only a single value as an element, a Dictionary holds a key: value pair\n",
        "\n"
      ],
      "metadata": {
        "id": "nXNvMTY2p9ft"
      }
    },
    {
      "cell_type": "code",
      "source": [
        "x[\"color\"]=\"red\"\n",
        "print(x)\n"
      ],
      "metadata": {
        "colab": {
          "base_uri": "https://localhost:8080/"
        },
        "id": "TjguugIIlcc_",
        "outputId": "3e7bd3de-edd2-487e-c5fb-4908abcefe4c"
      },
      "execution_count": 31,
      "outputs": [
        {
          "output_type": "stream",
          "name": "stdout",
          "text": [
            "{'country': 'India', 'date': '14/2/2024', 'color': 'red'}\n"
          ]
        }
      ]
    },
    {
      "cell_type": "markdown",
      "source": [
        "upadte dict"
      ],
      "metadata": {
        "id": "7TTy366WZ60T"
      }
    },
    {
      "cell_type": "code",
      "source": [
        "x.update({\"color\":\"blue\"})\n",
        "print(x)"
      ],
      "metadata": {
        "colab": {
          "base_uri": "https://localhost:8080/"
        },
        "id": "hjKi-9foZ59A",
        "outputId": "9491b0b3-f659-4c62-b30c-826ef7a3248b"
      },
      "execution_count": 32,
      "outputs": [
        {
          "output_type": "stream",
          "name": "stdout",
          "text": [
            "{'country': 'India', 'date': '14/2/2024', 'color': 'blue'}\n"
          ]
        }
      ]
    },
    {
      "cell_type": "code",
      "source": [
        "x = 1j\n",
        "print(type(x))"
      ],
      "metadata": {
        "colab": {
          "base_uri": "https://localhost:8080/"
        },
        "id": "wt0tHzC9qc3i",
        "outputId": "1728fc06-3002-4bf0-beca-9c1bf3b2abce"
      },
      "execution_count": 33,
      "outputs": [
        {
          "output_type": "stream",
          "name": "stdout",
          "text": [
            "<class 'complex'>\n"
          ]
        }
      ]
    },
    {
      "cell_type": "code",
      "source": [
        "x= True\n",
        "print(type(x))"
      ],
      "metadata": {
        "colab": {
          "base_uri": "https://localhost:8080/"
        },
        "id": "8IIXJmOqzL36",
        "outputId": "05bde579-6458-4019-e681-86322cb86e74"
      },
      "execution_count": 34,
      "outputs": [
        {
          "output_type": "stream",
          "name": "stdout",
          "text": [
            "<class 'bool'>\n"
          ]
        }
      ]
    }
  ]
}